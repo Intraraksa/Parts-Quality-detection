{
 "cells": [
  {
   "cell_type": "code",
   "execution_count": 2,
   "id": "da8ba912-0276-4d6a-9fed-7066efe3a221",
   "metadata": {},
   "outputs": [],
   "source": [
    "import torch\n",
    "import torch.nn as nn\n",
    "from torchvision import datasets\n",
    "from torch.utils.data import DataLoader, Dataset\n",
    "import torch.functional as F\n",
    "\n",
    "import tqdm\n",
    "from PIL import Image"
   ]
  },
  {
   "cell_type": "code",
   "execution_count": 3,
   "id": "179c5f9a-abcc-48f0-a7e2-d97ca0d7fa92",
   "metadata": {},
   "outputs": [
    {
     "name": "stdout",
     "output_type": "stream",
     "text": [
      "Overwriting data_setup.py\n"
     ]
    }
   ],
   "source": [
    "%%writefile data_setup.py\n",
    "import os\n",
    "import torch\n",
    "from torchvision import datasets,transforms\n",
    "from torch.utils.data import DataLoader\n",
    "\n",
    "torch.manual_seed(40)\n",
    "def create_dataset():\n",
    "    transformer = transforms.Compose([\n",
    "                                      transforms.Resize((224,224)),\n",
    "                                      transforms.RandomRotation(0.5),\n",
    "                                      transforms.RandomHorizontalFlip(0.2),\n",
    "                                      transforms.ToTensor(),\n",
    "                                      transforms.Normalize((0.485, 0.456, 0.406), (0.229, 0.224, 0.225)),                                    \n",
    "                                      ])\n",
    "    \n",
    "    #Create dataset from Image folder\n",
    "    train_data = datasets.ImageFolder(\"defect_dataset/casting_data/casting_data/train\",transform=transformer)\n",
    "    test_data = datasets.ImageFolder(\"defect_dataset/casting_data/casting_data/test\",transform=transformer)\n",
    "    #Create loader\n",
    "    train_loader = DataLoader(train_data,batch_size=32,shuffle=True)\n",
    "    test_loader = DataLoader(test_data,batch_size=32)\n",
    "    classes = train_data.classes\n",
    "    return train_loader, test_loader, classes"
   ]
  },
  {
   "cell_type": "code",
   "execution_count": 4,
   "id": "d8097315-5490-4a1b-8e78-59e116856766",
   "metadata": {},
   "outputs": [
    {
     "name": "stdout",
     "output_type": "stream",
     "text": [
      "Overwriting create_model.py\n"
     ]
    }
   ],
   "source": [
    "%%writefile create_model.py\n",
    "import torch\n",
    "import torch.nn as nn\n",
    "from torchvision import models\n",
    "\n",
    "def create_model():\n",
    "    device = \"cuda\" if torch.cuda.is_available() else \"cpu\"\n",
    "    weight = models.MobileNet_V2_Weights.DEFAULT\n",
    "    print(device)\n",
    "    model = models.mobilenet_v2(weight).to(device)\n",
    "    # Freeze parameters\n",
    "    for param in model.features.parameters():\n",
    "        param.requires_grad = False\n",
    "    # Change class size\n",
    "    model.classifier = torch.nn.Sequential(\n",
    "                                           torch.nn.Dropout(p=0.2, inplace=False),\n",
    "                                           torch.nn.Linear(in_features=1280, out_features=2, bias=True)\n",
    "                                            )\n",
    "    return model"
   ]
  },
  {
   "cell_type": "code",
   "execution_count": 2,
   "id": "c61670d4-b661-4614-a42b-e2bcb79cb9f2",
   "metadata": {},
   "outputs": [
    {
     "name": "stdout",
     "output_type": "stream",
     "text": [
      "Overwriting engine.py\n"
     ]
    }
   ],
   "source": [
    "%%writefile engine.py\n",
    "\n",
    "import torch\n",
    "import torch.nn as nn\n",
    "from tqdm import tqdm\n",
    "import create_model\n",
    "import data_setup\n",
    "\n",
    "\n",
    "def training(model, epochs,criterion,optimizer,train_loader, test_loader):\n",
    "    device = \"cuda\" if torch.cuda.is_available() else \"cpu\"\n",
    "    model = model.to(device)\n",
    "    # Create dataset\n",
    "    train_losses = []\n",
    "    test_losses = []\n",
    "    accuracies = []\n",
    "    for epoch in tqdm(range(epochs)):\n",
    "        model.train()\n",
    "        for _, (x_train, y_train) in enumerate(train_loader):\n",
    "            x_train = x_train.to(device)\n",
    "            y_train = y_train.to(device)\n",
    "            y_pred = model(x_train)\n",
    "            loss = criterion(y_pred, y_train)\n",
    "\n",
    "            optimizer.zero_grad()\n",
    "            loss.backward()\n",
    "            optimizer.step()\n",
    "        if epoch%2 == 0:\n",
    "            print(f\"Epoch :{epoch} loss : {loss}\")\n",
    "            train_losses.append(loss)\n",
    "        with torch.inference_mode():\n",
    "            for x_test,y_test in test_loader:\n",
    "                x_test = x_test.to(device)\n",
    "                y_test = y_test.to(device)\n",
    "                y_predict = model(x_test)\n",
    "                loss = criterion(y_predict, y_test)\n",
    "            test_losses.append(loss)\n",
    "    return train_losses, test_losses"
   ]
  },
  {
   "cell_type": "code",
   "execution_count": 4,
   "id": "b8d34702-6d67-4849-9bfa-dd325a6439b7",
   "metadata": {},
   "outputs": [
    {
     "name": "stderr",
     "output_type": "stream",
     "text": [
      "C:\\Users\\n_int\\anaconda3\\envs\\yolov8\\lib\\site-packages\\torchvision\\models\\_utils.py:135: UserWarning: Using 'weights' as positional parameter(s) is deprecated since 0.13 and may be removed in the future. Please use keyword parameter(s) instead.\n",
      "  warnings.warn(\n"
     ]
    }
   ],
   "source": [
    "from torchvision import models\n",
    "\n",
    "device = \"cuda\" if torch.cuda.is_available() else \"cpu\"\n",
    "weight = models.MobileNet_V2_Weights.DEFAULT\n",
    "model = models.mobilenet_v2(weight).to(device)\n",
    "\n",
    "for param in model.features.parameters():\n",
    "    param.requires_grad = False\n",
    "\n",
    "model.classifier = torch.nn.Sequential(\n",
    "                                       torch.nn.Dropout(p=0.2, inplace=False),\n",
    "                                       torch.nn.Linear(in_features=1280, out_features=2, bias=True)\n",
    "                                        )\n",
    "\n",
    "EPOCHS = 10\n",
    "optimizer = torch.optim.Adam(lr=0.001,modol.parameters)\n",
    "criterion = nn.CrossEntropyLoss()\n",
    "losses = []\n",
    "accuracies = []\n",
    "for epoch in tqdm(range(EPOCHS)):\n",
    "    \n",
    "    model.train()\n",
    "    "
   ]
  },
  {
   "cell_type": "code",
   "execution_count": 23,
   "id": "0b28e330-8b16-49d4-b56e-78898e757b95",
   "metadata": {},
   "outputs": [
    {
     "name": "stdout",
     "output_type": "stream",
     "text": [
      "cuda\n"
     ]
    },
    {
     "name": "stderr",
     "output_type": "stream",
     "text": [
      "  0%|                                                                                           | 0/10 [00:00<?, ?it/s]"
     ]
    },
    {
     "name": "stdout",
     "output_type": "stream",
     "text": [
      "Epoch :0 loss : 0.2081400454044342\n"
     ]
    },
    {
     "name": "stderr",
     "output_type": "stream",
     "text": [
      " 20%|████████████████▍                                                                 | 2/10 [07:19<26:50, 201.32s/it]"
     ]
    },
    {
     "name": "stdout",
     "output_type": "stream",
     "text": [
      "Epoch :2 loss : 0.7131328582763672\n"
     ]
    },
    {
     "name": "stderr",
     "output_type": "stream",
     "text": [
      " 40%|█████████████████████████████████▏                                                 | 4/10 [08:24<08:47, 87.87s/it]"
     ]
    },
    {
     "name": "stdout",
     "output_type": "stream",
     "text": [
      "Epoch :4 loss : 0.08246997743844986\n"
     ]
    },
    {
     "name": "stderr",
     "output_type": "stream",
     "text": [
      " 60%|█████████████████████████████████████████████████▊                                 | 6/10 [09:25<03:39, 54.76s/it]"
     ]
    },
    {
     "name": "stdout",
     "output_type": "stream",
     "text": [
      "Epoch :6 loss : 0.10886535048484802\n"
     ]
    },
    {
     "name": "stderr",
     "output_type": "stream",
     "text": [
      " 80%|██████████████████████████████████████████████████████████████████▍                | 8/10 [10:27<01:23, 41.98s/it]"
     ]
    },
    {
     "name": "stdout",
     "output_type": "stream",
     "text": [
      "Epoch :8 loss : 0.08147120475769043\n"
     ]
    },
    {
     "name": "stderr",
     "output_type": "stream",
     "text": [
      "100%|██████████████████████████████████████████████████████████████████████████████████| 10/10 [11:31<00:00, 69.11s/it]\n"
     ]
    }
   ],
   "source": [
    "import create_model\n",
    "import data_setup\n",
    "from tqdm import tqdm\n",
    "device = \"cuda\" if torch.cuda.is_available() else \"cpu\"\n",
    "mobilenet = create_model.create_model().to(device)\n",
    "\n",
    "EPOCHS = 10\n",
    "optimizer = torch.optim.Adam(mobilenet.parameters(),lr=0.001)\n",
    "criterion = nn.CrossEntropyLoss()\n",
    "# Create dataset\n",
    "train_loader, test_loader, classes = data_setup.create_dataset()\n",
    "train_losses = []\n",
    "test_losses = []\n",
    "accuracies = []\n"
   ]
  },
  {
   "cell_type": "code",
   "execution_count": 19,
   "id": "715807f3-4492-4be5-8a6f-cdb7afc339e7",
   "metadata": {},
   "outputs": [],
   "source": [
    "# !pip install torchinfo"
   ]
  },
  {
   "cell_type": "code",
   "execution_count": 2,
   "id": "afd14858-fc26-40ed-b5ad-68bbb5c4056f",
   "metadata": {},
   "outputs": [
    {
     "name": "stdout",
     "output_type": "stream",
     "text": [
      "cuda\n"
     ]
    },
    {
     "name": "stderr",
     "output_type": "stream",
     "text": [
      "C:\\Users\\n_int\\anaconda3\\envs\\yolov8\\lib\\site-packages\\torchvision\\models\\_utils.py:135: UserWarning: Using 'weights' as positional parameter(s) is deprecated since 0.13 and may be removed in the future. Please use keyword parameter(s) instead.\n",
      "  warnings.warn(\n",
      "  0%|                                                                                           | 0/20 [00:00<?, ?it/s]"
     ]
    },
    {
     "name": "stdout",
     "output_type": "stream",
     "text": [
      "Epoch :0 loss : 0.08476927131414413\n"
     ]
    },
    {
     "name": "stderr",
     "output_type": "stream",
     "text": [
      " 10%|████████▎                                                                          | 2/20 [01:00<09:01, 30.09s/it]"
     ]
    },
    {
     "name": "stdout",
     "output_type": "stream",
     "text": [
      "Epoch :2 loss : 0.22850275039672852\n"
     ]
    },
    {
     "name": "stderr",
     "output_type": "stream",
     "text": [
      " 20%|████████████████▌                                                                  | 4/20 [02:00<08:04, 30.31s/it]"
     ]
    },
    {
     "name": "stdout",
     "output_type": "stream",
     "text": [
      "Epoch :4 loss : 0.2248094379901886\n"
     ]
    },
    {
     "name": "stderr",
     "output_type": "stream",
     "text": [
      " 30%|████████████████████████▉                                                          | 6/20 [03:00<07:01, 30.11s/it]"
     ]
    },
    {
     "name": "stdout",
     "output_type": "stream",
     "text": [
      "Epoch :6 loss : 0.04173969477415085\n"
     ]
    },
    {
     "name": "stderr",
     "output_type": "stream",
     "text": [
      " 40%|█████████████████████████████████▏                                                 | 8/20 [04:04<06:12, 31.06s/it]"
     ]
    },
    {
     "name": "stdout",
     "output_type": "stream",
     "text": [
      "Epoch :8 loss : 0.05983949452638626\n"
     ]
    },
    {
     "name": "stderr",
     "output_type": "stream",
     "text": [
      " 50%|█████████████████████████████████████████                                         | 10/20 [05:09<05:20, 32.01s/it]"
     ]
    },
    {
     "name": "stdout",
     "output_type": "stream",
     "text": [
      "Epoch :10 loss : 0.03702707216143608\n"
     ]
    },
    {
     "name": "stderr",
     "output_type": "stream",
     "text": [
      " 60%|█████████████████████████████████████████████████▏                                | 12/20 [06:32<04:52, 36.54s/it]"
     ]
    },
    {
     "name": "stdout",
     "output_type": "stream",
     "text": [
      "Epoch :12 loss : 0.012449027970433235\n"
     ]
    },
    {
     "name": "stderr",
     "output_type": "stream",
     "text": [
      " 70%|█████████████████████████████████████████████████████████▍                        | 14/20 [08:01<04:06, 41.08s/it]"
     ]
    },
    {
     "name": "stdout",
     "output_type": "stream",
     "text": [
      "Epoch :14 loss : 0.4009815454483032\n"
     ]
    },
    {
     "name": "stderr",
     "output_type": "stream",
     "text": [
      " 80%|█████████████████████████████████████████████████████████████████▌                | 16/20 [09:44<03:05, 46.31s/it]"
     ]
    },
    {
     "name": "stdout",
     "output_type": "stream",
     "text": [
      "Epoch :16 loss : 0.018492400646209717\n"
     ]
    },
    {
     "name": "stderr",
     "output_type": "stream",
     "text": [
      " 90%|█████████████████████████████████████████████████████████████████████████▊        | 18/20 [11:34<01:42, 51.07s/it]"
     ]
    },
    {
     "name": "stdout",
     "output_type": "stream",
     "text": [
      "Epoch :18 loss : 0.018200531601905823\n"
     ]
    },
    {
     "name": "stderr",
     "output_type": "stream",
     "text": [
      "100%|██████████████████████████████████████████████████████████████████████████████████| 20/20 [13:22<00:00, 40.15s/it]\n"
     ]
    }
   ],
   "source": [
    "import create_model\n",
    "import data_setup\n",
    "import engine\n",
    "from tqdm import tqdm\n",
    "import torch\n",
    "import torch.nn as nn\n",
    "# device = \"cuda\" if torch.cuda.is_available() else \"cpu\"\n",
    "# mobilenet = create_model.create_model().to(device)\n",
    "\n",
    "EPOCHS = 20\n",
    "torch.manual_seed(40)\n",
    "# Create dataset\n",
    "# train_loader, test_loader, classes = data_setup.create_dataset()\n",
    "train_losses = []\n",
    "test_losses = []\n",
    "accuracies = []\n",
    "\n",
    "train_loader, test_loader, classes = data_setup.create_dataset()\n",
    "\n",
    "mobilenet = create_model.create_model()\n",
    "optimizer = torch.optim.Adam(mobilenet.parameters(),lr=0.001)\n",
    "criterion = nn.CrossEntropyLoss()\n",
    "\n",
    "train_losses, test_losses = engine.training(model=mobilenet, epochs=EPOCHS,\n",
    "                                            criterion=criterion,optimizer=optimizer,\n",
    "                                            train_loader=train_loader, test_loader=test_loader)"
   ]
  },
  {
   "cell_type": "code",
   "execution_count": 27,
   "id": "8365987a-f88c-47a7-ae67-e79245a7c8b8",
   "metadata": {},
   "outputs": [
    {
     "data": {
      "text/plain": [
       "[tensor(1.5390, device='cuda:0'),\n",
       " tensor(0.9740, device='cuda:0'),\n",
       " tensor(1.5667, device='cuda:0'),\n",
       " tensor(1.4320, device='cuda:0'),\n",
       " tensor(1.5263, device='cuda:0'),\n",
       " tensor(1.5662, device='cuda:0'),\n",
       " tensor(1.2614, device='cuda:0'),\n",
       " tensor(1.9331, device='cuda:0'),\n",
       " tensor(1.9977, device='cuda:0'),\n",
       " tensor(1.5666, device='cuda:0')]"
      ]
     },
     "execution_count": 27,
     "metadata": {},
     "output_type": "execute_result"
    }
   ],
   "source": [
    "test_losses"
   ]
  },
  {
   "cell_type": "code",
   "execution_count": 19,
   "id": "d5c60abf-ce0d-4d34-8b2f-396f7a98c173",
   "metadata": {},
   "outputs": [],
   "source": [
    "device = \"cuda\" if torch.cuda.is_available() else \"cpu\""
   ]
  },
  {
   "cell_type": "code",
   "execution_count": 20,
   "id": "6126cc8d-dc50-4d50-a444-2d522a9b59fb",
   "metadata": {},
   "outputs": [
    {
     "data": {
      "text/plain": [
       "'cuda'"
      ]
     },
     "execution_count": 20,
     "metadata": {},
     "output_type": "execute_result"
    }
   ],
   "source": [
    "device"
   ]
  },
  {
   "cell_type": "code",
   "execution_count": null,
   "id": "57e55204-64ec-408a-98bc-b2557e6adb9b",
   "metadata": {},
   "outputs": [],
   "source": []
  }
 ],
 "metadata": {
  "kernelspec": {
   "display_name": "Python 3 (ipykernel)",
   "language": "python",
   "name": "python3"
  },
  "language_info": {
   "codemirror_mode": {
    "name": "ipython",
    "version": 3
   },
   "file_extension": ".py",
   "mimetype": "text/x-python",
   "name": "python",
   "nbconvert_exporter": "python",
   "pygments_lexer": "ipython3",
   "version": "3.9.16"
  }
 },
 "nbformat": 4,
 "nbformat_minor": 5
}
