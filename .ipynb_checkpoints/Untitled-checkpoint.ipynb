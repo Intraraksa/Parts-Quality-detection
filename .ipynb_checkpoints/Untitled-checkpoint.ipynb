{
 "cells": [
  {
   "cell_type": "code",
   "execution_count": 1,
   "id": "da8ba912-0276-4d6a-9fed-7066efe3a221",
   "metadata": {},
   "outputs": [],
   "source": [
    "import torch\n",
    "import torch.nn as nn\n",
    "from torchvision import datasets\n",
    "from torch.utils.data import DataLoader, Dataset\n",
    "import torch.functional as F\n",
    "\n",
    "import tqdm\n",
    "from PIL import Image"
   ]
  },
  {
   "cell_type": "code",
   "execution_count": 3,
   "id": "179c5f9a-abcc-48f0-a7e2-d97ca0d7fa92",
   "metadata": {},
   "outputs": [
    {
     "name": "stdout",
     "output_type": "stream",
     "text": [
      "Overwriting data_setup.py\n"
     ]
    }
   ],
   "source": [
    "%%writefile data_setup.py\n",
    "import os\n",
    "import torch\n",
    "from torchvision import datasets,transforms\n",
    "from torch.utils.data import DataLoader\n",
    "\n",
    "torch.manual_seed(40)\n",
    "def create_dataset():\n",
    "    transformer = transforms.Compose([\n",
    "                                      transforms.Resize((224,224)),\n",
    "                                      transforms.RandomRotation(0.5),\n",
    "                                      transforms.RandomHorizontalFlip(0.2),\n",
    "                                      transforms.Normalize((0.485, 0.456, 0.406), (0.229, 0.224, 0.225)),\n",
    "                                      transforms.ToTensor()                                   \n",
    "                                      ])\n",
    "    \n",
    "    #Create dataset from Image folder\n",
    "    train_data = datasets.ImageFolder(\"defect_dataset/casting_data/casting_data/train\",transform=transformer)\n",
    "    test_data = datasets.ImageFolder(\"defect_dataset/casting_data/casting_data/test\",transform=transformer)\n",
    "    #Create loader\n",
    "    train_loader = DataLoader(train_data,batch_size=32,shuffle=True)\n",
    "    teat_loader = DataLoader(test_data,batch_size=32)\n",
    "    classes = train_data.classes\n",
    "    return train_loader, test_loader, classes"
   ]
  },
  {
   "cell_type": "code",
   "execution_count": 50,
   "id": "d8097315-5490-4a1b-8e78-59e116856766",
   "metadata": {},
   "outputs": [
    {
     "name": "stdout",
     "output_type": "stream",
     "text": [
      "Overwriting create_model.py\n"
     ]
    }
   ],
   "source": [
    "%%writefile create_model.py\n",
    "import torch\n",
    "import torch.nn as nn\n",
    "from torchvision import models\n",
    "\n",
    "device = \"cuda\" if torch.cuda.is_available() else \"cpu\"\n",
    "\n",
    "def create_model():\n",
    "    weight = models.MobileNet_V2_Weights.DEFAULT\n",
    "    print(device)\n",
    "    model = models.mobilenet_v2(weight).to(device)\n",
    "    # Freeze parameters\n",
    "    for param in model.features.parameters():\n",
    "        param.requires_grad = False\n",
    "    # Change class size\n",
    "    model.classifier = torch.nn.Sequential(\n",
    "                                           torch.nn.Dropout(p=0.2, inplace=False),\n",
    "                                           torch.nn.Linear(in_features=1280, out_features=2, bias=True)\n",
    "                                            )\n",
    "    return model"
   ]
  },
  {
   "cell_type": "code",
   "execution_count": 8,
   "id": "c61670d4-b661-4614-a42b-e2bcb79cb9f2",
   "metadata": {},
   "outputs": [],
   "source": [
    "\n",
    "import torch\n",
    "import torch.nn as nn\n",
    "from tqdm import tqdm\n",
    "\n",
    "def training_step(epochs=20):\n",
    "    for epoch in tqdm(range(epochs)):\n",
    "        \n",
    "    \n"
   ]
  },
  {
   "cell_type": "code",
   "execution_count": 4,
   "id": "b8d34702-6d67-4849-9bfa-dd325a6439b7",
   "metadata": {},
   "outputs": [
    {
     "name": "stderr",
     "output_type": "stream",
     "text": [
      "C:\\Users\\n_int\\anaconda3\\envs\\yolov8\\lib\\site-packages\\torchvision\\models\\_utils.py:135: UserWarning: Using 'weights' as positional parameter(s) is deprecated since 0.13 and may be removed in the future. Please use keyword parameter(s) instead.\n",
      "  warnings.warn(\n"
     ]
    }
   ],
   "source": [
    "from torchvision import models\n",
    "\n",
    "device = \"cuda\" if torch.cuda.is_available() else \"cpu\"\n",
    "weight = models.MobileNet_V2_Weights.DEFAULT\n",
    "model = models.mobilenet_v2(weight).to(device)\n",
    "\n",
    "for param in model.features.parameters():\n",
    "    param.requires_grad = False\n",
    "\n",
    "model.classifier = torch.nn.Sequential(\n",
    "                                       torch.nn.Dropout(p=0.2, inplace=False),\n",
    "                                       torch.nn.Linear(in_features=1280, out_features=2, bias=True)\n",
    "                                        )\n",
    "\n",
    "EPOCHS = 10\n",
    "optimizer = torch.optim.Adam(lr=0.001,modol.parameters)\n",
    "criterion = nn.CrossEntropyLoss()\n",
    "losses = []\n",
    "accuracies = []\n",
    "for epoch in tqdm(range(EPOCHS)):\n",
    "    \n",
    "    model.train()\n",
    "    model"
   ]
  },
  {
   "cell_type": "code",
   "execution_count": 6,
   "id": "0b28e330-8b16-49d4-b56e-78898e757b95",
   "metadata": {},
   "outputs": [
    {
     "data": {
      "text/plain": [
       "<generator object Module.parameters at 0x00000210F3EC12E0>"
      ]
     },
     "execution_count": 6,
     "metadata": {},
     "output_type": "execute_result"
    }
   ],
   "source": [
    "# from torchinfo import summary\n",
    "# summary(model,\n",
    "#        input_size=(32,3,224,224),\n",
    "#        col_names=[\"input_size\", \"output_size\", \"num_params\", \"trainable\"],)\n",
    "\n",
    "model.parameters"
   ]
  },
  {
   "cell_type": "code",
   "execution_count": 19,
   "id": "715807f3-4492-4be5-8a6f-cdb7afc339e7",
   "metadata": {},
   "outputs": [],
   "source": [
    "# !pip install torchinfo"
   ]
  },
  {
   "cell_type": "code",
   "execution_count": 2,
   "id": "afd14858-fc26-40ed-b5ad-68bbb5c4056f",
   "metadata": {},
   "outputs": [
    {
     "ename": "NameError",
     "evalue": "name 'test_loader' is not defined",
     "output_type": "error",
     "traceback": [
      "\u001b[1;31m---------------------------------------------------------------------------\u001b[0m",
      "\u001b[1;31mNameError\u001b[0m                                 Traceback (most recent call last)",
      "Cell \u001b[1;32mIn [2], line 4\u001b[0m\n\u001b[0;32m      1\u001b[0m \u001b[38;5;28;01mimport\u001b[39;00m \u001b[38;5;21;01mcreate_model\u001b[39;00m\n\u001b[0;32m      2\u001b[0m \u001b[38;5;28;01mimport\u001b[39;00m \u001b[38;5;21;01mdata_setup\u001b[39;00m\n\u001b[1;32m----> 4\u001b[0m train_loader, test_loader, classes \u001b[38;5;241m=\u001b[39m data_setup\u001b[38;5;241m.\u001b[39mcreate_dataset()\n",
      "File \u001b[1;32m~\\Documents\\Knowledges\\Part_manufacturing_classification\\data_setup.py:23\u001b[0m, in \u001b[0;36mcreate_dataset\u001b[1;34m()\u001b[0m\n\u001b[0;32m     21\u001b[0m teat_loader \u001b[38;5;241m=\u001b[39m DataLoader(test_data,batch_size\u001b[38;5;241m=\u001b[39m\u001b[38;5;241m32\u001b[39m)\n\u001b[0;32m     22\u001b[0m classes \u001b[38;5;241m=\u001b[39m train_data\u001b[38;5;241m.\u001b[39mclasses\n\u001b[1;32m---> 23\u001b[0m \u001b[38;5;28;01mreturn\u001b[39;00m train_loader, \u001b[43mtest_loader\u001b[49m, classes\n",
      "\u001b[1;31mNameError\u001b[0m: name 'test_loader' is not defined"
     ]
    }
   ],
   "source": [
    "import create_model\n",
    "import data_setup\n",
    "\n",
    "train_loader, test_loader, classes = data_setup.create_dataset()"
   ]
  },
  {
   "cell_type": "code",
   "execution_count": 18,
   "id": "8365987a-f88c-47a7-ae67-e79245a7c8b8",
   "metadata": {},
   "outputs": [
    {
     "ename": "NameError",
     "evalue": "name 'transforms' is not defined",
     "output_type": "error",
     "traceback": [
      "\u001b[1;31m---------------------------------------------------------------------------\u001b[0m",
      "\u001b[1;31mNameError\u001b[0m                                 Traceback (most recent call last)",
      "Cell \u001b[1;32mIn [18], line 1\u001b[0m\n\u001b[1;32m----> 1\u001b[0m transformer \u001b[38;5;241m=\u001b[39m transforms\u001b[38;5;241m.\u001b[39mCompose([\n\u001b[0;32m      2\u001b[0m                                   transforms\u001b[38;5;241m.\u001b[39mResize((\u001b[38;5;241m224\u001b[39m,\u001b[38;5;241m224\u001b[39m)),\n\u001b[0;32m      3\u001b[0m                                   transforms\u001b[38;5;241m.\u001b[39mRandomRotation(\u001b[38;5;241m0.5\u001b[39m),\n\u001b[0;32m      4\u001b[0m                                   transforms\u001b[38;5;241m.\u001b[39mRandomHorizontalFlip(\u001b[38;5;241m0.2\u001b[39m),\n\u001b[0;32m      5\u001b[0m                                   transforms\u001b[38;5;241m.\u001b[39mNormalize((\u001b[38;5;241m0.485\u001b[39m, \u001b[38;5;241m0.456\u001b[39m, \u001b[38;5;241m0.406\u001b[39m), (\u001b[38;5;241m0.229\u001b[39m, \u001b[38;5;241m0.224\u001b[39m, \u001b[38;5;241m0.225\u001b[39m)),\n\u001b[0;32m      6\u001b[0m                                   transforms\u001b[38;5;241m.\u001b[39mToTensor()                                   \n\u001b[0;32m      7\u001b[0m                                       ])\n",
      "\u001b[1;31mNameError\u001b[0m: name 'transforms' is not defined"
     ]
    }
   ],
   "source": [
    "transformer = transforms.Compose([\n",
    "                                  transforms.Resize((224,224)),\n",
    "                                  transforms.RandomRotation(0.5),\n",
    "                                  transforms.RandomHorizontalFlip(0.2),\n",
    "                                  transforms.Normalize((0.485, 0.456, 0.406), (0.229, 0.224, 0.225)),\n",
    "                                  transforms.ToTensor()                                   \n",
    "                                      ])"
   ]
  },
  {
   "cell_type": "code",
   "execution_count": null,
   "id": "d5c60abf-ce0d-4d34-8b2f-396f7a98c173",
   "metadata": {},
   "outputs": [],
   "source": []
  }
 ],
 "metadata": {
  "kernelspec": {
   "display_name": "Python 3 (ipykernel)",
   "language": "python",
   "name": "python3"
  },
  "language_info": {
   "codemirror_mode": {
    "name": "ipython",
    "version": 3
   },
   "file_extension": ".py",
   "mimetype": "text/x-python",
   "name": "python",
   "nbconvert_exporter": "python",
   "pygments_lexer": "ipython3",
   "version": "3.9.16"
  }
 },
 "nbformat": 4,
 "nbformat_minor": 5
}
